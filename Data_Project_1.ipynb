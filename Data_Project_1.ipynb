{
  "nbformat": 4,
  "nbformat_minor": 0,
  "metadata": {
    "colab": {
      "provenance": [],
      "authorship_tag": "ABX9TyOXRsQAIOdNpJwHZ1C0APDM",
      "include_colab_link": true
    },
    "kernelspec": {
      "name": "python3",
      "display_name": "Python 3"
    },
    "language_info": {
      "name": "python"
    }
  },
  "cells": [
    {
      "cell_type": "markdown",
      "metadata": {
        "id": "view-in-github",
        "colab_type": "text"
      },
      "source": [
        "<a href=\"https://colab.research.google.com/github/CarolWuuu/DataProject1/blob/main/Data_Project_1.ipynb\" target=\"_parent\"><img src=\"https://colab.research.google.com/assets/colab-badge.svg\" alt=\"Open In Colab\"/></a>"
      ]
    },
    {
      "cell_type": "code",
      "execution_count": 92,
      "metadata": {
        "id": "hd4f5r3bRS7X"
      },
      "outputs": [],
      "source": [
        "import pandas as pd\n",
        "import json\n",
        "import sqlite3\n",
        "import requests\n",
        "import matplotlib.pyplot as plt"
      ]
    },
    {
      "cell_type": "markdown",
      "source": [
        "1. Data Ingestion"
      ],
      "metadata": {
        "id": "gjBJP5phSOd-"
      }
    },
    {
      "cell_type": "code",
      "source": [
        "def fetch_nyt_ebook_data():\n",
        "    yourkey = \"AcabYUTCM0hGYtSCdKqfR89D8HMsxECB\"  # Replace with your actual API key\n",
        "    url = f\"https://api.nytimes.com/svc/books/v3/lists/current/e-book-fiction.json?api-key={yourkey}\"\n",
        "\n",
        "    try:\n",
        "        response = requests.get(url)\n",
        "        response.raise_for_status()\n",
        "        data = response.json()\n",
        "\n",
        "        # Extract relevant book data\n",
        "        books = data.get(\"results\", {}).get(\"books\", [])\n",
        "        records = [\n",
        "            {\n",
        "                \"rank\": book[\"rank\"],\n",
        "                \"rank_last_week\": book[\"rank_last_week\"],\n",
        "                \"weeks_on_list\": book[\"weeks_on_list\"],\n",
        "                \"title\": book[\"title\"],\n",
        "                \"author\": book[\"author\"],\n",
        "                \"publisher\": book[\"publisher\"],\n",
        "                \"isbn\": book[\"primary_isbn13\"],\n",
        "                \"description\": book[\"description\"]\n",
        "            }\n",
        "            for book in books\n",
        "        ]\n",
        "\n",
        "        # Convert to JSON format\n",
        "        json_data = json.dumps(records, indent=4)\n",
        "\n",
        "        # Save JSON to a file\n",
        "        with open(\"nyt_ebook_data.json\", \"w\", encoding=\"utf-8\") as f:\n",
        "            f.write(json_data)\n",
        "\n",
        "        print(\"JSON data successfully saved as 'nyt_ebook_data.json'\")\n",
        "\n",
        "    except requests.exceptions.RequestException as e:\n",
        "        print(f\"Error fetching data: {e}\")\n",
        "\n",
        "fetch_nyt_ebook_data()\n"
      ],
      "metadata": {
        "colab": {
          "base_uri": "https://localhost:8080/"
        },
        "id": "C3yCzE_fSMES",
        "outputId": "c096c18a-85c8-4230-e8c9-94476f26cfb6"
      },
      "execution_count": 28,
      "outputs": [
        {
          "output_type": "stream",
          "name": "stdout",
          "text": [
            "JSON data successfully saved as 'nyt_ebook_data.json'\n"
          ]
        }
      ]
    },
    {
      "cell_type": "code",
      "source": [
        "# fetch a local file (CSV or JSON)\n",
        "def fetch_local_file(file_path):\n",
        "    try:\n",
        "        if file_path.endswith(\".csv\"):\n",
        "            df = pd.read_csv(file_path)\n",
        "        elif file_path.endswith(\".json\"):\n",
        "            df = pd.read_json(file_path)\n",
        "        else:\n",
        "            print(\"Unsupported file format. Please provide a CSV or JSON file.\")\n",
        "            return None\n",
        "\n",
        "        # Ensure column names match the expected structure\n",
        "        required_columns = [\"rank\", \"rank_last_week\", \"weeks_on_list\", \"title\", \"author\", \"publisher\", \"isbn\", \"description\"]\n",
        "        df.columns = required_columns  # Rename columns to match structure\n",
        "\n",
        "        # Check if all required columns exist in the file\n",
        "        missing_columns = [col for col in required_columns if col not in df.columns]\n",
        "\n",
        "        if missing_columns:\n",
        "            print(f\"Error: Missing required columns: {', '.join(missing_columns)}\")\n",
        "            return None\n",
        "\n",
        "        # Convert DataFrame to list of tuples\n",
        "        records = list(df.itertuples(index=False, name=None))\n",
        "\n",
        "        return records\n",
        "\n",
        "    except Exception as e:\n",
        "        print(f\"Error loading file: {e}\")\n",
        "        return None"
      ],
      "metadata": {
        "id": "Ek88tiz-4SSI"
      },
      "execution_count": 100,
      "outputs": []
    },
    {
      "cell_type": "code",
      "source": [
        "file_path = \"nyt_ebook_data.json\"\n",
        "ebook_records = fetch_local_file(file_path)\n",
        "print(ebook_records)"
      ],
      "metadata": {
        "colab": {
          "base_uri": "https://localhost:8080/"
        },
        "id": "YM1KyTWZ4tXn",
        "outputId": "88c565a9-5a1d-4f77-be31-185291ee8771"
      },
      "execution_count": 102,
      "outputs": [
        {
          "output_type": "stream",
          "name": "stdout",
          "text": [
            "[(1, 0, 1, 'FULL PACKAGE', 'Lauren Blakely', 'Lauren Blakely', 'A00B01MT5HMRV', \"A man shares a cramped apartment with his friend's fetching sister.\"), (2, 0, 2, 'THE GUERNSEY LITERARY AND POTATO PEEL PIE SOCIETY', 'Mary Ann Shaffer and Annie Barrows', 'Dial', '9780440337973', 'After World War II, a journalist travels to the island of Guernsey to meet residents who resisted the Nazi occupation. Originally published in 2008.'), (3, 4, 12, 'THE WHISTLER', 'John Grisham', 'Doubleday', '9780385541206', 'A whistleblower alerts a Florida investigator to judicial corruption involving the Mob and Indian casinos.'), (4, 0, 1, 'RING OF FIRE', 'Brad Taylor', 'Dutton', '9781101984772', 'Pike Logan, a member of a secret counterterrorist unit called the Taskforce, investigates a Saudi-backed Moroccan terrorist cell.'), (5, 7, 9, 'SMALL GREAT THINGS', 'Jodi Picoult', 'Ballantine', '9780345544964', 'A medical crisis entangles a black nurse, a white supremacist father and a white lawyer.'), (6, 0, 1, 'SHELTER FOR ADELINE', 'Susan Stoker', 'Stoker Aces Production', 'A00B01MF62CN8', 'A fireman must keep his overprotective nature in check while pursuing an epileptic prey to her suspiciously obsessive boss.'), (7, 9, 3, 'A MAN CALLED OVE', 'Fredrik Backman', 'Atria', '9781476738031', 'An angry old curmudgeon gets new neighbors, and things are about to change for all of them.'), (8, 2, 2, 'THE MISTRESS', 'Danielle Steel', 'Delacorte', '9780425285350', 'The beautiful mistress of a Russian oligarch falls in love with an artist and yearns for freedom.'), (9, 0, 1, 'THE GUESTS ON SOUTH BATTERY', 'Karen White', 'Berkley', '9780698193000', 'Spirits invade the life of a Charleston realtor.'), (10, 0, 8, \"NO MAN'S LAND\", 'David Baldacci', 'Grand Central', '9781455586493', 'John Puller, a special agent with the Army, searches for the truth about his mother, who disappeared 30 years ago.'), (11, 0, 0, 'BELOW THE BELT', 'Stuart Woods', 'Putnam', '9780399574184', 'The New York lawyer Stone Barrington faces danger when he finds himself in possession of a retired C.I.A. agent’s explosive memoir.'), (12, 0, 0, 'CROSS THE LINE', 'James Patterson', 'Little, Brown', '9780316407168', 'Detective Alex Cross and his wife, Bree, team up to catch a killer causing chaos in Washington, D.C.'), (13, 0, 0, 'THE DRY', 'Jane Harper', 'Flatiron', '9781250105615', None), (14, 0, 0, \"A DOG'S PURPOSE\", 'W Bruce Cameron', 'Forge', '9781429960274', 'A canine narrator undergoes a series of reincarnations.'), (15, 0, 0, 'THE SLEEPWALKER', 'Chris Bohjalian', 'Doubleday', '9780385538923', 'The daughters of a Vermont woman who disappeared from her home in the middle of the night try to understand what happened.')]\n"
          ]
        }
      ]
    },
    {
      "cell_type": "code",
      "source": [
        "# Fetch The New York Times Best Sellers lists from NYT API (latest list)\n",
        "\n",
        "def fetch_nyt_hardcover_data():\n",
        "    yourkey = \"AcabYUTCM0hGYtSCdKqfR89D8HMsxECB\"  # Ensure this is valid\n",
        "    url = f\"https://api.nytimes.com/svc/books/v3/lists/current/hardcover-fiction.json?api-key={yourkey}\"\n",
        "\n",
        "    try:\n",
        "        response = requests.get(url)  # Use .get() instead of .request(\"GET\", url)\n",
        "        response.raise_for_status()\n",
        "        data = response.json()\n",
        "        # Extract relevant book data\n",
        "        books = data.get(\"results\", {}).get(\"books\", [])\n",
        "        records = [(book[\"rank\"], book[\"rank_last_week\"],book[\"weeks_on_list\"],book[\"title\"], book[\"author\"], book[\"publisher\"], book[\"primary_isbn13\"], book[\"description\"])\n",
        "                   for book in books]\n",
        "\n",
        "        return records\n",
        "    except requests.exceptions.RequestException as e:\n",
        "        print(f\"Error fetching data: {e}\")\n",
        "        return None\n"
      ],
      "metadata": {
        "id": "88WEy1R8xrEu"
      },
      "execution_count": 41,
      "outputs": []
    },
    {
      "cell_type": "code",
      "source": [
        "hardcover_records = fetch_nyt_hardcover_data()\n",
        "#print(hardcover_records)"
      ],
      "metadata": {
        "colab": {
          "base_uri": "https://localhost:8080/"
        },
        "id": "wHeg1f7i9XHW",
        "outputId": "8e412165-4116-4c62-de61-5da71eeeb7af"
      },
      "execution_count": 59,
      "outputs": [
        {
          "output_type": "stream",
          "name": "stdout",
          "text": [
            "[(1, 1, 6, 'ONYX STORM', 'Rebecca Yarros', 'Red Tower', '9781649377159', 'The third book in the Empyrean series. As enemies gain traction, Violet Sorrengail goes beyond the Aretian wards in search of allies.'), (2, 0, 1, 'BATTLE MOUNTAIN', 'C.J. Box', 'Putnam', '9780593851050', 'The 25th book in the Joe Pickett series. Nate seeks vengeance while off the grid and Joe looks for the governor’s missing son-in-law.'), (3, 3, 69, 'IRON FLAME', 'Rebecca Yarros', 'Red Tower', '9781649374172', 'The second book in the Empyrean series. Violet Sorrengail’s next round of training under the new vice commandant might require her to betray the man she loves.'), (4, 2, 84, 'THE NIGHTINGALE', 'Kristin Hannah', 'St. Martin’s', '9781250370112', 'Two sisters in World War II France: one struggling to survive in the countryside, the other joining the Resistance in Paris.'), (5, 0, 1, 'SWORDHEART', 'T. Kingfisher', 'Bramble', '9781250400222', 'While fending off relatives who want her inheritance, Halla unsheathes a sword that brings an immortal warrior into her life.'), (6, 4, 35, 'JAMES', 'Percival Everett', 'Doubleday', '9780385550369', \"A reimagining of “Adventures of Huckleberry Finn” shines a different light on Mark Twain's classic, revealing new facets of the character of Jim.\"), (7, 10, 86, 'FOURTH WING', 'Rebecca Yarros', 'Red Tower', '9781649374042', 'Violet Sorrengail is urged by the commanding general, who also is her mother, to become a candidate for the elite dragon riders.'), (8, 5, 56, 'THE WOMEN', 'Kristin Hannah', \"St. Martin's\", '9781250178633', 'A nurse follows her brother to serve during the Vietnam War and returns to a divided America.'), (9, 9, 33, 'THE GOD OF THE WOODS', 'Liz Moore', 'Riverhead', '9780593418918', 'When a 13-year-old girl disappears from an Adirondack summer camp in 1975, secrets kept by the Van Laar family emerge.'), (10, 8, 18, 'THE WEDDING PEOPLE', 'Alison Espach', 'Holt', '9781250899576', 'A woman who is down on her luck forms an unexpected bond with the bride at a wedding in Rhode Island.'), (11, 11, 3, 'WE ALL LIVE HERE', 'Jojo Moyes', 'Pamela Dorman', '9781984879325', 'A woman, who is besieged by calamities in several facets of her life, finds her beliefs about family are tested.'), (12, 7, 3, 'PARANOIA', 'James Patterson and James O. Born', 'Little, Brown', '9780316403689', 'The 17th book in the Michael Bennett series. Bennett goes after someone who is killing police officers.'), (13, 0, 1, 'FAMOUS LAST WORDS', 'Gillian McAllister', 'Morrow', '9780063338425', 'A new mother discovers that her husband is the gunman in a hostage situation.'), (14, 13, 3, 'THREE DAYS IN JUNE', 'Anne Tyler', 'Knopf', '9780593803486', 'As her daughter’s wedding draws near, Gail Baines faces issues with her job, her ex-husband and her past.'), (15, 12, 2, 'DREAM STATE', 'Eric Puchner', 'Doubleday', '9780385550666', 'Fifty years after a wedding in Montana, reverberations from that time continue to affect three friends and their children.')]\n"
          ]
        }
      ]
    },
    {
      "cell_type": "markdown",
      "source": [
        "2. Data Transformation"
      ],
      "metadata": {
        "id": "KUXijGqEyXeN"
      }
    },
    {
      "cell_type": "code",
      "source": [
        "def json_to_csv(json_file, csv_file):\n",
        "\n",
        "    try:\n",
        "        # Load JSON file\n",
        "        with open(json_file, \"r\", encoding=\"utf-8\") as f:\n",
        "            data = json.load(f)\n",
        "\n",
        "        # Convert to Pandas DataFrame\n",
        "        df = pd.DataFrame(data)\n",
        "\n",
        "        # Save to CSV\n",
        "        df.to_csv(csv_file, index=False, encoding=\"utf-8\")\n",
        "\n",
        "        print(f\"JSON successfully converted to CSV: {csv_file}\")\n",
        "\n",
        "    except Exception as e:\n",
        "        print(f\"Error converting JSON to CSV: {e}\")\n",
        "\n",
        "# Usage\n",
        "json_file_path = \"nyt_ebook_data.json\"\n",
        "csv_file_path = \"nyt_ebook_data.csv\"\n",
        "\n",
        "json_to_csv(json_file_path, csv_file_path)\n"
      ],
      "metadata": {
        "colab": {
          "base_uri": "https://localhost:8080/"
        },
        "id": "G6MvxTAR06A_",
        "outputId": "61f5763f-81a9-4ed2-9d68-a06454cb7ab6"
      },
      "execution_count": 33,
      "outputs": [
        {
          "output_type": "stream",
          "name": "stdout",
          "text": [
            "JSON successfully converted to CSV: nyt_ebook_data.csv\n"
          ]
        }
      ]
    },
    {
      "cell_type": "code",
      "source": [
        "def csv_to_json(csv_file, json_file):\n",
        "    try:\n",
        "        # Load CSV file\n",
        "        df = pd.read_csv(csv_file)\n",
        "\n",
        "        # Convert DataFrame to a list of dictionaries\n",
        "        json_data = df.to_dict(orient=\"records\")\n",
        "\n",
        "        # Save JSON file\n",
        "        with open(json_file, \"w\", encoding=\"utf-8\") as f:\n",
        "            json.dump(json_data, f, indent=4)\n",
        "\n",
        "        print(f\"CSV successfully converted to JSON: {json_file}\")\n",
        "\n",
        "    except Exception as e:\n",
        "        print(f\"Error converting CSV to JSON: {e}\")\n",
        "\n",
        "# Usage\n",
        "csv_file_path = \"nyt_ebook_data.csv\"\n",
        "json_file_path = \"nyt_ebook_data.json\"\n",
        "\n",
        "csv_to_json(csv_file_path, json_file_path)\n"
      ],
      "metadata": {
        "colab": {
          "base_uri": "https://localhost:8080/"
        },
        "id": "zg_7J6ik7DZO",
        "outputId": "d5dc8898-0661-4844-9256-ee7cb7cc7217"
      },
      "execution_count": 34,
      "outputs": [
        {
          "output_type": "stream",
          "name": "stdout",
          "text": [
            "CSV successfully converted to JSON: nyt_ebook_data.json\n"
          ]
        }
      ]
    },
    {
      "cell_type": "markdown",
      "source": [
        "3. Data Merging and Analysis"
      ],
      "metadata": {
        "id": "qGZOHhfI-pTj"
      }
    },
    {
      "cell_type": "code",
      "source": [
        "def merge_books(ebook_records, hardcover_records):\n",
        "    \"\"\"\n",
        "    Merges E-Book Fiction and Hardcover Fiction records.\n",
        "    Adds a new column 'list_category' to distinguish them.\n",
        "    \"\"\"\n",
        "    if not ebook_records and not hardcover_records:\n",
        "        print(\"No data to store.\")\n",
        "        return\n",
        "\n",
        "    # Add 'list_category' column to each record\n",
        "    ebook_records = [record + (\"E-Book Fiction\",) for record in ebook_records]\n",
        "    hardcover_records = [record + (\"Hardcover Fiction\",) for record in hardcover_records]\n",
        "\n",
        "    # Merge both lists\n",
        "    merged_records = ebook_records + hardcover_records\n",
        "    return merged_records\n"
      ],
      "metadata": {
        "id": "VzctiWBz_Bf2"
      },
      "execution_count": 60,
      "outputs": []
    },
    {
      "cell_type": "code",
      "source": [
        "merged_records = merge_books(ebook_records, hardcover_records)"
      ],
      "metadata": {
        "id": "7HsbVy-fAM5s"
      },
      "execution_count": 61,
      "outputs": []
    },
    {
      "cell_type": "code",
      "source": [
        "print(merged_records)"
      ],
      "metadata": {
        "colab": {
          "base_uri": "https://localhost:8080/"
        },
        "id": "U5LPIbbzCH7E",
        "outputId": "13168024-246f-411f-83fe-74224def880d"
      },
      "execution_count": 86,
      "outputs": [
        {
          "output_type": "stream",
          "name": "stdout",
          "text": [
            "[(1, 0, 1, 'FULL PACKAGE', 'Lauren Blakely', 'Lauren Blakely', 'A00B01MT5HMRV', \"A man shares a cramped apartment with his friend's fetching sister.\", 'E-Book Fiction'), (2, 0, 2, 'THE GUERNSEY LITERARY AND POTATO PEEL PIE SOCIETY', 'Mary Ann Shaffer and Annie Barrows', 'Dial', '9780440337973', 'After World War II, a journalist travels to the island of Guernsey to meet residents who resisted the Nazi occupation. Originally published in 2008.', 'E-Book Fiction'), (3, 4, 12, 'THE WHISTLER', 'John Grisham', 'Doubleday', '9780385541206', 'A whistleblower alerts a Florida investigator to judicial corruption involving the Mob and Indian casinos.', 'E-Book Fiction'), (4, 0, 1, 'RING OF FIRE', 'Brad Taylor', 'Dutton', '9781101984772', 'Pike Logan, a member of a secret counterterrorist unit called the Taskforce, investigates a Saudi-backed Moroccan terrorist cell.', 'E-Book Fiction'), (5, 7, 9, 'SMALL GREAT THINGS', 'Jodi Picoult', 'Ballantine', '9780345544964', 'A medical crisis entangles a black nurse, a white supremacist father and a white lawyer.', 'E-Book Fiction'), (6, 0, 1, 'SHELTER FOR ADELINE', 'Susan Stoker', 'Stoker Aces Production', 'A00B01MF62CN8', 'A fireman must keep his overprotective nature in check while pursuing an epileptic prey to her suspiciously obsessive boss.', 'E-Book Fiction'), (7, 9, 3, 'A MAN CALLED OVE', 'Fredrik Backman', 'Atria', '9781476738031', 'An angry old curmudgeon gets new neighbors, and things are about to change for all of them.', 'E-Book Fiction'), (8, 2, 2, 'THE MISTRESS', 'Danielle Steel', 'Delacorte', '9780425285350', 'The beautiful mistress of a Russian oligarch falls in love with an artist and yearns for freedom.', 'E-Book Fiction'), (9, 0, 1, 'THE GUESTS ON SOUTH BATTERY', 'Karen White', 'Berkley', '9780698193000', 'Spirits invade the life of a Charleston realtor.', 'E-Book Fiction'), (10, 0, 8, \"NO MAN'S LAND\", 'David Baldacci', 'Grand Central', '9781455586493', 'John Puller, a special agent with the Army, searches for the truth about his mother, who disappeared 30 years ago.', 'E-Book Fiction'), (11, 0, 0, 'BELOW THE BELT', 'Stuart Woods', 'Putnam', '9780399574184', 'The New York lawyer Stone Barrington faces danger when he finds himself in possession of a retired C.I.A. agent’s explosive memoir.', 'E-Book Fiction'), (12, 0, 0, 'CROSS THE LINE', 'James Patterson', 'Little, Brown', '9780316407168', 'Detective Alex Cross and his wife, Bree, team up to catch a killer causing chaos in Washington, D.C.', 'E-Book Fiction'), (13, 0, 0, 'THE DRY', 'Jane Harper', 'Flatiron', '9781250105615', '', 'E-Book Fiction'), (14, 0, 0, \"A DOG'S PURPOSE\", 'W Bruce Cameron', 'Forge', '9781429960274', 'A canine narrator undergoes a series of reincarnations.', 'E-Book Fiction'), (15, 0, 0, 'THE SLEEPWALKER', 'Chris Bohjalian', 'Doubleday', '9780385538923', 'The daughters of a Vermont woman who disappeared from her home in the middle of the night try to understand what happened.', 'E-Book Fiction'), (1, 1, 6, 'ONYX STORM', 'Rebecca Yarros', 'Red Tower', '9781649377159', 'The third book in the Empyrean series. As enemies gain traction, Violet Sorrengail goes beyond the Aretian wards in search of allies.', 'Hardcover Fiction'), (2, 0, 1, 'BATTLE MOUNTAIN', 'C.J. Box', 'Putnam', '9780593851050', 'The 25th book in the Joe Pickett series. Nate seeks vengeance while off the grid and Joe looks for the governor’s missing son-in-law.', 'Hardcover Fiction'), (3, 3, 69, 'IRON FLAME', 'Rebecca Yarros', 'Red Tower', '9781649374172', 'The second book in the Empyrean series. Violet Sorrengail’s next round of training under the new vice commandant might require her to betray the man she loves.', 'Hardcover Fiction'), (4, 2, 84, 'THE NIGHTINGALE', 'Kristin Hannah', 'St. Martin’s', '9781250370112', 'Two sisters in World War II France: one struggling to survive in the countryside, the other joining the Resistance in Paris.', 'Hardcover Fiction'), (5, 0, 1, 'SWORDHEART', 'T. Kingfisher', 'Bramble', '9781250400222', 'While fending off relatives who want her inheritance, Halla unsheathes a sword that brings an immortal warrior into her life.', 'Hardcover Fiction'), (6, 4, 35, 'JAMES', 'Percival Everett', 'Doubleday', '9780385550369', \"A reimagining of “Adventures of Huckleberry Finn” shines a different light on Mark Twain's classic, revealing new facets of the character of Jim.\", 'Hardcover Fiction'), (7, 10, 86, 'FOURTH WING', 'Rebecca Yarros', 'Red Tower', '9781649374042', 'Violet Sorrengail is urged by the commanding general, who also is her mother, to become a candidate for the elite dragon riders.', 'Hardcover Fiction'), (8, 5, 56, 'THE WOMEN', 'Kristin Hannah', \"St. Martin's\", '9781250178633', 'A nurse follows her brother to serve during the Vietnam War and returns to a divided America.', 'Hardcover Fiction'), (9, 9, 33, 'THE GOD OF THE WOODS', 'Liz Moore', 'Riverhead', '9780593418918', 'When a 13-year-old girl disappears from an Adirondack summer camp in 1975, secrets kept by the Van Laar family emerge.', 'Hardcover Fiction'), (10, 8, 18, 'THE WEDDING PEOPLE', 'Alison Espach', 'Holt', '9781250899576', 'A woman who is down on her luck forms an unexpected bond with the bride at a wedding in Rhode Island.', 'Hardcover Fiction'), (11, 11, 3, 'WE ALL LIVE HERE', 'Jojo Moyes', 'Pamela Dorman', '9781984879325', 'A woman, who is besieged by calamities in several facets of her life, finds her beliefs about family are tested.', 'Hardcover Fiction'), (12, 7, 3, 'PARANOIA', 'James Patterson and James O. Born', 'Little, Brown', '9780316403689', 'The 17th book in the Michael Bennett series. Bennett goes after someone who is killing police officers.', 'Hardcover Fiction'), (13, 0, 1, 'FAMOUS LAST WORDS', 'Gillian McAllister', 'Morrow', '9780063338425', 'A new mother discovers that her husband is the gunman in a hostage situation.', 'Hardcover Fiction'), (14, 13, 3, 'THREE DAYS IN JUNE', 'Anne Tyler', 'Knopf', '9780593803486', 'As her daughter’s wedding draws near, Gail Baines faces issues with her job, her ex-husband and her past.', 'Hardcover Fiction'), (15, 12, 2, 'DREAM STATE', 'Eric Puchner', 'Doubleday', '9780385550666', 'Fifty years after a wedding in Montana, reverberations from that time continue to affect three friends and their children.', 'Hardcover Fiction')]\n"
          ]
        }
      ]
    },
    {
      "cell_type": "markdown",
      "source": [
        "Analyzes trends in book rankings and duration on the bestseller list.\n",
        "\n",
        "*   Filters relevant columns: rank, rank_last_week, weeks_on_list,\n",
        "list_category.\n",
        "*   Generates:\n",
        "      1. Boxplot for Weeks on List Distribution.\n",
        "      2. Summary statistics table for trends analysis."
      ],
      "metadata": {
        "id": "n1mAzvh7KZNy"
      }
    },
    {
      "cell_type": "code",
      "source": [
        "def analyze_book_trends(merged_records):\n",
        "\n",
        "    # Convert merged records to DataFrame\n",
        "    columns = [\"rank\", \"rank_last_week\", \"weeks_on_list\", \"title\", \"author\", \"publisher\", \"isbn\", \"description\", \"list_category\"]\n",
        "    df = pd.DataFrame(merged_records, columns=columns)\n",
        "\n",
        "    # Select relevant columns\n",
        "    df_filtered = df[[\"rank\", \"rank_last_week\", \"weeks_on_list\", \"list_category\"]]\n",
        "\n",
        "    # Calculate rank change (Positive = improved rank, Negative = dropped rank)\n",
        "    df_filtered[\"rank_change\"] = df_filtered[\"rank_last_week\"] - df_filtered[\"rank\"]\n",
        "\n",
        "    # Compute summary statistics\n",
        "    trends_summary = df_filtered.groupby(\"list_category\").agg({\n",
        "        \"rank_change\": [\"mean\", \"min\", \"max\"],\n",
        "        \"weeks_on_list\": [\"mean\", \"max\"]\n",
        "    }).reset_index()\n",
        "\n",
        "    # Plot: Weeks on List Distribution by Category\n",
        "    df_filtered.boxplot(column=\"weeks_on_list\", by=\"list_category\", grid=False)\n",
        "    plt.title(\"Weeks on List: Hardcover vs. E-Book\")\n",
        "    plt.suptitle(\"\")\n",
        "    plt.xlabel(\"Category\")\n",
        "    plt.ylabel(\"Weeks on List\")\n",
        "    plt.show()\n",
        "\n",
        "    # Display trends analysis table\n",
        "    display(trends_summary)\n",
        "\n",
        "# Run the analysis\n",
        "analyze_book_trends(merged_records)\n"
      ],
      "metadata": {
        "colab": {
          "base_uri": "https://localhost:8080/",
          "height": 692
        },
        "id": "Efzg87uiKXOA",
        "outputId": "407d0d33-08b9-49b7-d310-aa0778044177"
      },
      "execution_count": 96,
      "outputs": [
        {
          "output_type": "stream",
          "name": "stderr",
          "text": [
            "<ipython-input-96-9ef690d6e86a>:11: SettingWithCopyWarning: \n",
            "A value is trying to be set on a copy of a slice from a DataFrame.\n",
            "Try using .loc[row_indexer,col_indexer] = value instead\n",
            "\n",
            "See the caveats in the documentation: https://pandas.pydata.org/pandas-docs/stable/user_guide/indexing.html#returning-a-view-versus-a-copy\n",
            "  df_filtered[\"rank_change\"] = df_filtered[\"rank_last_week\"] - df_filtered[\"rank\"]\n"
          ]
        },
        {
          "output_type": "display_data",
          "data": {
            "text/plain": [
              "<Figure size 640x480 with 1 Axes>"
            ],
            "image/png": "[encoded data removed]"
          },
          "metadata": {}
        },
        {
          "output_type": "display_data",
          "data": {
            "text/plain": [
              "       list_category rank_change         weeks_on_list    \n",
              "                            mean min max          mean max\n",
              "0     E-Book Fiction   -6.533333 -15   2      2.666667  12\n",
              "1  Hardcover Fiction   -2.333333 -13   3     26.733333  86"
            ],
            "text/html": [
              "\n",
              "  <div id=\"df-65107c80-4cad-40f5-940b-f04849246d20\" class=\"colab-df-container\">\n",
              "    <div>\n",
              "<style scoped>\n",
              "    .dataframe tbody tr th:only-of-type {\n",
              "        vertical-align: middle;\n",
              "    }\n",
              "\n",
              "    .dataframe tbody tr th {\n",
              "        vertical-align: top;\n",
              "    }\n",
              "\n",
              "    .dataframe thead tr th {\n",
              "        text-align: left;\n",
              "    }\n",
              "</style>\n",
              "<table border=\"1\" class=\"dataframe\">\n",
              "  <thead>\n",
              "    <tr>\n",
              "      <th></th>\n",
              "      <th>list_category</th>\n",
              "      <th colspan=\"3\" halign=\"left\">rank_change</th>\n",
              "      <th colspan=\"2\" halign=\"left\">weeks_on_list</th>\n",
              "    </tr>\n",
              "    <tr>\n",
              "      <th></th>\n",
              "      <th></th>\n",
              "      <th>mean</th>\n",
              "      <th>min</th>\n",
              "      <th>max</th>\n",
              "      <th>mean</th>\n",
              "      <th>max</th>\n",
              "    </tr>\n",
              "  </thead>\n",
              "  <tbody>\n",
              "    <tr>\n",
              "      <th>0</th>\n",
              "      <td>E-Book Fiction</td>\n",
              "      <td>-6.533333</td>\n",
              "      <td>-15</td>\n",
              "      <td>2</td>\n",
              "      <td>2.666667</td>\n",
              "      <td>12</td>\n",
              "    </tr>\n",
              "    <tr>\n",
              "      <th>1</th>\n",
              "      <td>Hardcover Fiction</td>\n",
              "      <td>-2.333333</td>\n",
              "      <td>-13</td>\n",
              "      <td>3</td>\n",
              "      <td>26.733333</td>\n",
              "      <td>86</td>\n",
              "    </tr>\n",
              "  </tbody>\n",
              "</table>\n",
              "</div>\n",
              "    <div class=\"colab-df-buttons\">\n",
              "\n",
              "  <div class=\"colab-df-container\">\n",
              "    <button class=\"colab-df-convert\" onclick=\"convertToInteractive('df-65107c80-4cad-40f5-940b-f04849246d20')\"\n",
              "            title=\"Convert this dataframe to an interactive table.\"\n",
              "            style=\"display:none;\">\n",
              "\n",
              "  <svg xmlns=\"http://www.w3.org/2000/svg\" height=\"24px\" viewBox=\"0 -960 960 960\">\n",
              "    <path d=\"M120-120v-720h720v720H120Zm60-500h600v-160H180v160Zm220 220h160v-160H400v160Zm0 220h160v-160H400v160ZM180-400h160v-160H180v160Zm440 0h160v-160H620v160ZM180-180h160v-160H180v160Zm440 0h160v-160H620v160Z\"/>\n",
              "  </svg>\n",
              "    </button>\n",
              "\n",
              "  <style>\n",
              "    .colab-df-container {\n",
              "      display:flex;\n",
              "      gap: 12px;\n",
              "    }\n",
              "\n",
              "    .colab-df-convert {\n",
              "      background-color: #E8F0FE;\n",
              "      border: none;\n",
              "      border-radius: 50%;\n",
              "      cursor: pointer;\n",
              "      display: none;\n",
              "      fill: #1967D2;\n",
              "      height: 32px;\n",
              "      padding: 0 0 0 0;\n",
              "      width: 32px;\n",
              "    }\n",
              "\n",
              "    .colab-df-convert:hover {\n",
              "      background-color: #E2EBFA;\n",
              "      box-shadow: 0px 1px 2px rgba(60, 64, 67, 0.3), 0px 1px 3px 1px rgba(60, 64, 67, 0.15);\n",
              "      fill: #174EA6;\n",
              "    }\n",
              "\n",
              "    .colab-df-buttons div {\n",
              "      margin-bottom: 4px;\n",
              "    }\n",
              "\n",
              "    [theme=dark] .colab-df-convert {\n",
              "      background-color: #3B4455;\n",
              "      fill: #D2E3FC;\n",
              "    }\n",
              "\n",
              "    [theme=dark] .colab-df-convert:hover {\n",
              "      background-color: #434B5C;\n",
              "      box-shadow: 0px 1px 3px 1px rgba(0, 0, 0, 0.15);\n",
              "      filter: drop-shadow(0px 1px 2px rgba(0, 0, 0, 0.3));\n",
              "      fill: #FFFFFF;\n",
              "    }\n",
              "  </style>\n",
              "\n",
              "    <script>\n",
              "      const buttonEl =\n",
              "        document.querySelector('#df-65107c80-4cad-40f5-940b-f04849246d20 button.colab-df-convert');\n",
              "      buttonEl.style.display =\n",
              "        google.colab.kernel.accessAllowed ? 'block' : 'none';\n",
              "\n",
              "      async function convertToInteractive(key) {\n",
              "        const element = document.querySelector('#df-65107c80-4cad-40f5-940b-f04849246d20');\n",
              "        const dataTable =\n",
              "          await google.colab.kernel.invokeFunction('convertToInteractive',\n",
              "                                                    [key], {});\n",
              "        if (!dataTable) return;\n",
              "\n",
              "        const docLinkHtml = 'Like what you see? Visit the ' +\n",
              "          '<a target=\"_blank\" href=https://colab.research.google.com/notebooks/data_table.ipynb>data table notebook</a>'\n",
              "          + ' to learn more about interactive tables.';\n",
              "        element.innerHTML = '';\n",
              "        dataTable['output_type'] = 'display_data';\n",
              "        await google.colab.output.renderOutput(dataTable, element);\n",
              "        const docLink = document.createElement('div');\n",
              "        docLink.innerHTML = docLinkHtml;\n",
              "        element.appendChild(docLink);\n",
              "      }\n",
              "    </script>\n",
              "  </div>\n",
              "\n",
              "\n",
              "<div id=\"df-04858c92-fa20-4de0-bdf5-db90e17d4bb8\">\n",
              "  <button class=\"colab-df-quickchart\" onclick=\"quickchart('df-04858c92-fa20-4de0-bdf5-db90e17d4bb8')\"\n",
              "            title=\"Suggest charts\"\n",
              "            style=\"display:none;\">\n",
              "\n",
              "<svg xmlns=\"http://www.w3.org/2000/svg\" height=\"24px\"viewBox=\"0 0 24 24\"\n",
              "     width=\"24px\">\n",
              "    <g>\n",
              "        <path d=\"M19 3H5c-1.1 0-2 .9-2 2v14c0 1.1.9 2 2 2h14c1.1 0 2-.9 2-2V5c0-1.1-.9-2-2-2zM9 17H7v-7h2v7zm4 0h-2V7h2v10zm4 0h-2v-4h2v4z\"/>\n",
              "    </g>\n",
              "</svg>\n",
              "  </button>\n",
              "\n",
              "<style>\n",
              "  .colab-df-quickchart {\n",
              "      --bg-color: #E8F0FE;\n",
              "      --fill-color: #1967D2;\n",
              "      --hover-bg-color: #E2EBFA;\n",
              "      --hover-fill-color: #174EA6;\n",
              "      --disabled-fill-color: #AAA;\n",
              "      --disabled-bg-color: #DDD;\n",
              "  }\n",
              "\n",
              "  [theme=dark] .colab-df-quickchart {\n",
              "      --bg-color: #3B4455;\n",
              "      --fill-color: #D2E3FC;\n",
              "      --hover-bg-color: #434B5C;\n",
              "      --hover-fill-color: #FFFFFF;\n",
              "      --disabled-bg-color: #3B4455;\n",
              "      --disabled-fill-color: #666;\n",
              "  }\n",
              "\n",
              "  .colab-df-quickchart {\n",
              "    background-color: var(--bg-color);\n",
              "    border: none;\n",
              "    border-radius: 50%;\n",
              "    cursor: pointer;\n",
              "    display: none;\n",
              "    fill: var(--fill-color);\n",
              "    height: 32px;\n",
              "    padding: 0;\n",
              "    width: 32px;\n",
              "  }\n",
              "\n",
              "  .colab-df-quickchart:hover {\n",
              "    background-color: var(--hover-bg-color);\n",
              "    box-shadow: 0 1px 2px rgba(60, 64, 67, 0.3), 0 1px 3px 1px rgba(60, 64, 67, 0.15);\n",
              "    fill: var(--button-hover-fill-color);\n",
              "  }\n",
              "\n",
              "  .colab-df-quickchart-complete:disabled,\n",
              "  .colab-df-quickchart-complete:disabled:hover {\n",
              "    background-color: var(--disabled-bg-color);\n",
              "    fill: var(--disabled-fill-color);\n",
              "    box-shadow: none;\n",
              "  }\n",
              "\n",
              "  .colab-df-spinner {\n",
              "    border: 2px solid var(--fill-color);\n",
              "    border-color: transparent;\n",
              "    border-bottom-color: var(--fill-color);\n",
              "    animation:\n",
              "      spin 1s steps(1) infinite;\n",
              "  }\n",
              "\n",
              "  @keyframes spin {\n",
              "    0% {\n",
              "      border-color: transparent;\n",
              "      border-bottom-color: var(--fill-color);\n",
              "      border-left-color: var(--fill-color);\n",
              "    }\n",
              "    20% {\n",
              "      border-color: transparent;\n",
              "      border-left-color: var(--fill-color);\n",
              "      border-top-color: var(--fill-color);\n",
              "    }\n",
              "    30% {\n",
              "      border-color: transparent;\n",
              "      border-left-color: var(--fill-color);\n",
              "      border-top-color: var(--fill-color);\n",
              "      border-right-color: var(--fill-color);\n",
              "    }\n",
              "    40% {\n",
              "      border-color: transparent;\n",
              "      border-right-color: var(--fill-color);\n",
              "      border-top-color: var(--fill-color);\n",
              "    }\n",
              "    60% {\n",
              "      border-color: transparent;\n",
              "      border-right-color: var(--fill-color);\n",
              "    }\n",
              "    80% {\n",
              "      border-color: transparent;\n",
              "      border-right-color: var(--fill-color);\n",
              "      border-bottom-color: var(--fill-color);\n",
              "    }\n",
              "    90% {\n",
              "      border-color: transparent;\n",
              "      border-bottom-color: var(--fill-color);\n",
              "    }\n",
              "  }\n",
              "</style>\n",
              "\n",
              "  <script>\n",
              "    async function quickchart(key) {\n",
              "      const quickchartButtonEl =\n",
              "        document.querySelector('#' + key + ' button');\n",
              "      quickchartButtonEl.disabled = true;  // To prevent multiple clicks.\n",
              "      quickchartButtonEl.classList.add('colab-df-spinner');\n",
              "      try {\n",
              "        const charts = await google.colab.kernel.invokeFunction(\n",
              "            'suggestCharts', [key], {});\n",
              "      } catch (error) {\n",
              "        console.error('Error during call to suggestCharts:', error);\n",
              "      }\n",
              "      quickchartButtonEl.classList.remove('colab-df-spinner');\n",
              "      quickchartButtonEl.classList.add('colab-df-quickchart-complete');\n",
              "    }\n",
              "    (() => {\n",
              "      let quickchartButtonEl =\n",
              "        document.querySelector('#df-04858c92-fa20-4de0-bdf5-db90e17d4bb8 button');\n",
              "      quickchartButtonEl.style.display =\n",
              "        google.colab.kernel.accessAllowed ? 'block' : 'none';\n",
              "    })();\n",
              "  </script>\n",
              "</div>\n",
              "\n",
              "    </div>\n",
              "  </div>\n"
            ],
            "application/vnd.google.colaboratory.intrinsic+json": {
              "type": "dataframe",
              "summary": "{\n  \"name\": \"analyze_book_trends(merged_records)\",\n  \"rows\": 2,\n  \"fields\": [\n    {\n      \"column\": [\n        \"list_category\",\n        \"\"\n      ],\n      \"properties\": {\n        \"dtype\": \"string\",\n        \"num_unique_values\": 2,\n        \"samples\": [\n          \"Hardcover Fiction\",\n          \"E-Book Fiction\"\n        ],\n        \"semantic_type\": \"\",\n        \"description\": \"\"\n      }\n    },\n    {\n      \"column\": [\n        \"rank_change\",\n        \"mean\"\n      ],\n      \"properties\": {\n        \"dtype\": \"number\",\n        \"std\": 2.9698484809834995,\n        \"min\": -6.533333333333333,\n        \"max\": -2.3333333333333335,\n        \"num_unique_values\": 2,\n        \"samples\": [\n          -2.3333333333333335,\n          -6.533333333333333\n        ],\n        \"semantic_type\": \"\",\n        \"description\": \"\"\n      }\n    },\n    {\n      \"column\": [\n        \"rank_change\",\n        \"min\"\n      ],\n      \"properties\": {\n        \"dtype\": \"number\",\n        \"std\": 1,\n        \"min\": -15,\n        \"max\": -13,\n        \"num_unique_values\": 2,\n        \"samples\": [\n          -13,\n          -15\n        ],\n        \"semantic_type\": \"\",\n        \"description\": \"\"\n      }\n    },\n    {\n      \"column\": [\n        \"rank_change\",\n        \"max\"\n      ],\n      \"properties\": {\n        \"dtype\": \"number\",\n        \"std\": 0,\n        \"min\": 2,\n        \"max\": 3,\n        \"num_unique_values\": 2,\n        \"samples\": [\n          3,\n          2\n        ],\n        \"semantic_type\": \"\",\n        \"description\": \"\"\n      }\n    },\n    {\n      \"column\": [\n        \"weeks_on_list\",\n        \"mean\"\n      ],\n      \"properties\": {\n        \"dtype\": \"number\",\n        \"std\": 17.017703200556245,\n        \"min\": 2.6666666666666665,\n        \"max\": 26.733333333333334,\n        \"num_unique_values\": 2,\n        \"samples\": [\n          26.733333333333334,\n          2.6666666666666665\n        ],\n        \"semantic_type\": \"\",\n        \"description\": \"\"\n      }\n    },\n    {\n      \"column\": [\n        \"weeks_on_list\",\n        \"max\"\n      ],\n      \"properties\": {\n        \"dtype\": \"number\",\n        \"std\": 52,\n        \"min\": 12,\n        \"max\": 86,\n        \"num_unique_values\": 2,\n        \"samples\": [\n          86,\n          12\n        ],\n        \"semantic_type\": \"\",\n        \"description\": \"\"\n      }\n    }\n  ]\n}"
            }
          },
          "metadata": {}
        }
      ]
    },
    {
      "cell_type": "markdown",
      "source": [
        "**Rank Change Trends**\n",
        "\n",
        "E-Book Fiction has a larger average rank drop (-6.53) compared to Hardcover Fiction (-2.33).\n",
        "- This suggests that E-Book Fiction bestsellers fluctuate more in rankings.\n",
        "\n",
        "The biggest rank drop in E-Book Fiction was -15, while in Hardcover Fiction, it was -13.\n",
        "- This indicates that E-Books tend to be more volatile than Hardcovers.\n",
        "\n",
        "**Weeks on the Bestseller List**\n",
        "\n",
        "E-Book Fiction books stay on the list for a much shorter period, with an average of 2.67 weeks and a maximum of 12 weeks.\n",
        "- This suggests that E-Books have a shorter lifecycle on the bestseller list.\n",
        "\n",
        "Hardcover Fiction books remain much longer, with an average of 26.73 weeks and a maximum of 86 weeks.\n",
        "- This indicates that Hardcover Fiction books tend to have long-term popularity compared to E-Books.\n"
      ],
      "metadata": {
        "id": "o5ux_DvbNouo"
      }
    },
    {
      "cell_type": "markdown",
      "source": [
        "4. Data Storage (Sqlite3)"
      ],
      "metadata": {
        "id": "WTbtS-M3z-Lv"
      }
    },
    {
      "cell_type": "code",
      "source": [
        "# Convert API response JSON to sqlite table\n",
        "def store_books(records, table_name, db_name=\"nyt_best_sellers.db\"):\n",
        "    if not records:\n",
        "        print(\"No data to store.\")\n",
        "        return\n",
        "\n",
        "    conn = sqlite3.connect(db_name)\n",
        "    cursor = conn.cursor()\n",
        "\n",
        "    # Drop the table if it exists (to completely reset the data)\n",
        "    cursor.execute(f\"DROP TABLE IF EXISTS {table_name}\")\n",
        "\n",
        "    # Create table with an auto-incrementing 'id'\n",
        "    cursor.execute(f\"\"\"\n",
        "        CREATE TABLE {table_name} (\n",
        "            id INTEGER PRIMARY KEY AUTOINCREMENT,\n",
        "            rank INTEGER,\n",
        "            rank_last_week INTEGER,\n",
        "            weeks_on_list INTEGER,\n",
        "            title TEXT,\n",
        "            author TEXT,\n",
        "            publisher TEXT,\n",
        "            isbn TEXT UNIQUE,\n",
        "            description TEXT,\n",
        "            list_category TEXT\n",
        "        )\n",
        "    \"\"\")\n",
        "\n",
        "    # Insert data (excluding 'id', so SQLite auto-generates it)\n",
        "    cursor.executemany(f\"\"\"\n",
        "        INSERT INTO {table_name} (rank, rank_last_week, weeks_on_list, title, author, publisher, isbn, description, list_category)\n",
        "        VALUES (?, ?, ?, ?, ?, ?, ?, ?, ?)\n",
        "    \"\"\", records)\n",
        "\n",
        "    conn.commit()\n",
        "    conn.close()\n",
        "    print(f\" Data successfully stored in {db_name}, table: {table_name}\")"
      ],
      "metadata": {
        "id": "DB-ifLd6mCog"
      },
      "execution_count": 83,
      "outputs": []
    },
    {
      "cell_type": "code",
      "source": [
        "store_books(merged_records, \"NYT_Best_Sellers_Merged\")"
      ],
      "metadata": {
        "colab": {
          "base_uri": "https://localhost:8080/"
        },
        "id": "8nHqYip7w10y",
        "outputId": "7877b9b3-5fce-48ed-d372-60ef02f597de"
      },
      "execution_count": 87,
      "outputs": [
        {
          "output_type": "stream",
          "name": "stdout",
          "text": [
            " Data successfully stored in nyt_best_sellers.db, table: NYT_Best_Sellers_Merged\n"
          ]
        }
      ]
    },
    {
      "cell_type": "code",
      "source": [
        "def view_books(table_name, db_name=\"nyt_best_sellers.db\"):\n",
        "    conn = sqlite3.connect(db_name)\n",
        "    df = pd.read_sql(f\"SELECT * FROM {table_name}\", conn)\n",
        "    conn.close()\n",
        "    print(df)\n"
      ],
      "metadata": {
        "id": "sF-pnPC4xCqG"
      },
      "execution_count": 88,
      "outputs": []
    },
    {
      "cell_type": "code",
      "source": [
        "view_books(\"NYT_Best_Sellers_Merged\")"
      ],
      "metadata": {
        "colab": {
          "base_uri": "https://localhost:8080/"
        },
        "id": "reWwuY7_95nV",
        "outputId": "61892312-a41f-4417-81c5-5a5bb1bae522"
      },
      "execution_count": 89,
      "outputs": [
        {
          "output_type": "stream",
          "name": "stdout",
          "text": [
            "    id  rank  rank_last_week  weeks_on_list  \\\n",
            "0    1     1               0              1   \n",
            "1    2     2               0              2   \n",
            "2    3     3               4             12   \n",
            "3    4     4               0              1   \n",
            "4    5     5               7              9   \n",
            "5    6     6               0              1   \n",
            "6    7     7               9              3   \n",
            "7    8     8               2              2   \n",
            "8    9     9               0              1   \n",
            "9   10    10               0              8   \n",
            "10  11    11               0              0   \n",
            "11  12    12               0              0   \n",
            "12  13    13               0              0   \n",
            "13  14    14               0              0   \n",
            "14  15    15               0              0   \n",
            "15  16     1               1              6   \n",
            "16  17     2               0              1   \n",
            "17  18     3               3             69   \n",
            "18  19     4               2             84   \n",
            "19  20     5               0              1   \n",
            "20  21     6               4             35   \n",
            "21  22     7              10             86   \n",
            "22  23     8               5             56   \n",
            "23  24     9               9             33   \n",
            "24  25    10               8             18   \n",
            "25  26    11              11              3   \n",
            "26  27    12               7              3   \n",
            "27  28    13               0              1   \n",
            "28  29    14              13              3   \n",
            "29  30    15              12              2   \n",
            "\n",
            "                                                title  \\\n",
            "0                                        FULL PACKAGE   \n",
            "1   THE GUERNSEY LITERARY AND POTATO PEEL PIE SOCIETY   \n",
            "2                                        THE WHISTLER   \n",
            "3                                        RING OF FIRE   \n",
            "4                                  SMALL GREAT THINGS   \n",
            "5                                 SHELTER FOR ADELINE   \n",
            "6                                    A MAN CALLED OVE   \n",
            "7                                        THE MISTRESS   \n",
            "8                         THE GUESTS ON SOUTH BATTERY   \n",
            "9                                       NO MAN'S LAND   \n",
            "10                                     BELOW THE BELT   \n",
            "11                                     CROSS THE LINE   \n",
            "12                                            THE DRY   \n",
            "13                                    A DOG'S PURPOSE   \n",
            "14                                    THE SLEEPWALKER   \n",
            "15                                         ONYX STORM   \n",
            "16                                    BATTLE MOUNTAIN   \n",
            "17                                         IRON FLAME   \n",
            "18                                    THE NIGHTINGALE   \n",
            "19                                         SWORDHEART   \n",
            "20                                              JAMES   \n",
            "21                                        FOURTH WING   \n",
            "22                                          THE WOMEN   \n",
            "23                               THE GOD OF THE WOODS   \n",
            "24                                 THE WEDDING PEOPLE   \n",
            "25                                   WE ALL LIVE HERE   \n",
            "26                                           PARANOIA   \n",
            "27                                  FAMOUS LAST WORDS   \n",
            "28                                 THREE DAYS IN JUNE   \n",
            "29                                        DREAM STATE   \n",
            "\n",
            "                                author               publisher           isbn  \\\n",
            "0                       Lauren Blakely          Lauren Blakely  A00B01MT5HMRV   \n",
            "1   Mary Ann Shaffer and Annie Barrows                    Dial  9780440337973   \n",
            "2                         John Grisham               Doubleday  9780385541206   \n",
            "3                          Brad Taylor                  Dutton  9781101984772   \n",
            "4                         Jodi Picoult              Ballantine  9780345544964   \n",
            "5                         Susan Stoker  Stoker Aces Production  A00B01MF62CN8   \n",
            "6                      Fredrik Backman                   Atria  9781476738031   \n",
            "7                       Danielle Steel               Delacorte  9780425285350   \n",
            "8                          Karen White                 Berkley  9780698193000   \n",
            "9                       David Baldacci           Grand Central  9781455586493   \n",
            "10                        Stuart Woods                  Putnam  9780399574184   \n",
            "11                     James Patterson           Little, Brown  9780316407168   \n",
            "12                         Jane Harper                Flatiron  9781250105615   \n",
            "13                     W Bruce Cameron                   Forge  9781429960274   \n",
            "14                     Chris Bohjalian               Doubleday  9780385538923   \n",
            "15                      Rebecca Yarros               Red Tower  9781649377159   \n",
            "16                            C.J. Box                  Putnam  9780593851050   \n",
            "17                      Rebecca Yarros               Red Tower  9781649374172   \n",
            "18                      Kristin Hannah            St. Martin’s  9781250370112   \n",
            "19                       T. Kingfisher                 Bramble  9781250400222   \n",
            "20                    Percival Everett               Doubleday  9780385550369   \n",
            "21                      Rebecca Yarros               Red Tower  9781649374042   \n",
            "22                      Kristin Hannah            St. Martin's  9781250178633   \n",
            "23                           Liz Moore               Riverhead  9780593418918   \n",
            "24                       Alison Espach                    Holt  9781250899576   \n",
            "25                          Jojo Moyes           Pamela Dorman  9781984879325   \n",
            "26   James Patterson and James O. Born           Little, Brown  9780316403689   \n",
            "27                  Gillian McAllister                  Morrow  9780063338425   \n",
            "28                          Anne Tyler                   Knopf  9780593803486   \n",
            "29                        Eric Puchner               Doubleday  9780385550666   \n",
            "\n",
            "                                          description      list_category  \n",
            "0   A man shares a cramped apartment with his frie...     E-Book Fiction  \n",
            "1   After World War II, a journalist travels to th...     E-Book Fiction  \n",
            "2   A whistleblower alerts a Florida investigator ...     E-Book Fiction  \n",
            "3   Pike Logan, a member of a secret counterterror...     E-Book Fiction  \n",
            "4   A medical crisis entangles a black nurse, a wh...     E-Book Fiction  \n",
            "5   A fireman must keep his overprotective nature ...     E-Book Fiction  \n",
            "6   An angry old curmudgeon gets new neighbors, an...     E-Book Fiction  \n",
            "7   The beautiful mistress of a Russian oligarch f...     E-Book Fiction  \n",
            "8    Spirits invade the life of a Charleston realtor.     E-Book Fiction  \n",
            "9   John Puller, a special agent with the Army, se...     E-Book Fiction  \n",
            "10  The New York lawyer Stone Barrington faces dan...     E-Book Fiction  \n",
            "11  Detective Alex Cross and his wife, Bree, team ...     E-Book Fiction  \n",
            "12                                                        E-Book Fiction  \n",
            "13  A canine narrator undergoes a series of reinca...     E-Book Fiction  \n",
            "14  The daughters of a Vermont woman who disappear...     E-Book Fiction  \n",
            "15  The third book in the Empyrean series. As enem...  Hardcover Fiction  \n",
            "16  The 25th book in the Joe Pickett series. Nate ...  Hardcover Fiction  \n",
            "17  The second book in the Empyrean series. Violet...  Hardcover Fiction  \n",
            "18  Two sisters in World War II France: one strugg...  Hardcover Fiction  \n",
            "19  While fending off relatives who want her inher...  Hardcover Fiction  \n",
            "20  A reimagining of “Adventures of Huckleberry Fi...  Hardcover Fiction  \n",
            "21  Violet Sorrengail is urged by the commanding g...  Hardcover Fiction  \n",
            "22  A nurse follows her brother to serve during th...  Hardcover Fiction  \n",
            "23  When a 13-year-old girl disappears from an Adi...  Hardcover Fiction  \n",
            "24  A woman who is down on her luck forms an unexp...  Hardcover Fiction  \n",
            "25  A woman, who is besieged by calamities in seve...  Hardcover Fiction  \n",
            "26  The 17th book in the Michael Bennett series. B...  Hardcover Fiction  \n",
            "27  A new mother discovers that her husband is the...  Hardcover Fiction  \n",
            "28  As her daughter’s wedding draws near, Gail Bai...  Hardcover Fiction  \n",
            "29  Fifty years after a wedding in Montana, reverb...  Hardcover Fiction  \n"
          ]
        }
      ]
    },
    {
      "cell_type": "code",
      "source": [
        "\n",
        "def sqlite_to_json(db_name, table_name, json_file):\n",
        "    try:\n",
        "        # Connect to SQLite database\n",
        "        conn = sqlite3.connect(db_name)\n",
        "\n",
        "        # Read data from the specified table\n",
        "        df = pd.read_sql(f\"SELECT * FROM {table_name}\", conn)\n",
        "\n",
        "        # Convert DataFrame to JSON (list of dictionaries)\n",
        "        json_data = df.to_dict(orient=\"records\")\n",
        "\n",
        "        # Save JSON file\n",
        "        with open(json_file, \"w\", encoding=\"utf-8\") as f:\n",
        "            json.dump(json_data, f, indent=4)\n",
        "\n",
        "        # Close connection\n",
        "        conn.close()\n",
        "\n",
        "        print(f\"SQLite table '{table_name}' successfully converted to JSON: {json_file}\")\n",
        "\n",
        "    except Exception as e:\n",
        "        print(f\"Error converting SQLite to JSON: {e}\")\n",
        "\n",
        "# Usage\n",
        "db_name = \"nyt_best_sellers.db\"          # SQLite database file\n",
        "table_name = \"NYT_Best_Sellers_Merged\"  # Table to convert\n",
        "json_file = \"nyt_books.json\"       # Output JSON file\n",
        "\n",
        "sqlite_to_json(db_name, table_name, json_file)\n"
      ],
      "metadata": {
        "colab": {
          "base_uri": "https://localhost:8080/"
        },
        "id": "pl7hguL4BH9t",
        "outputId": "12243e0e-97c6-4426-b151-8232823186ff"
      },
      "execution_count": 90,
      "outputs": [
        {
          "output_type": "stream",
          "name": "stdout",
          "text": [
            "SQLite table 'NYT_Best_Sellers_Merged' successfully converted to JSON: nyt_books.json\n"
          ]
        }
      ]
    },
    {
      "cell_type": "markdown",
      "source": [
        "5. Data Summarization"
      ],
      "metadata": {
        "id": "JtG8aM-j--Vx"
      }
    },
    {
      "cell_type": "code",
      "source": [
        "# Function to generate a summary of the transformed data\n",
        "def data_summary(df):\n",
        "    summary = {\n",
        "        \"Number of Records\": df.shape[0],\n",
        "        \"Number of Columns\": df.shape[1]\n",
        "    }\n",
        "    return summary\n"
      ],
      "metadata": {
        "id": "R7RseIniMVQs"
      },
      "execution_count": 105,
      "outputs": []
    },
    {
      "cell_type": "code",
      "source": [
        "# Get the summary of ingested data\n",
        "# Convert records to DataFrame\n",
        "columns = [\"rank\", \"rank_last_week\", \"weeks_on_list\", \"title\", \"author\", \"publisher\", \"isbn\", \"description\"]\n",
        "ebook_df = pd.DataFrame(ebook_records, columns=columns)\n",
        "ebook_summary = data_summary(ebook_df)\n",
        "display(ebook_summary)\n",
        "\n",
        "hardcover_df = pd.DataFrame(hardcover_records, columns=columns)\n",
        "hardcover_summary = data_summary(hardcover_df)\n",
        "display(hardcover_summary)"
      ],
      "metadata": {
        "colab": {
          "base_uri": "https://localhost:8080/",
          "height": 52
        },
        "id": "wiRwlW7LO03K",
        "outputId": "2b05a9a1-bfba-40a4-9f36-4f5370ca6e43"
      },
      "execution_count": 106,
      "outputs": [
        {
          "output_type": "display_data",
          "data": {
            "text/plain": [
              "{'Number of Records': 15, 'Number of Columns': 8}"
            ]
          },
          "metadata": {}
        },
        {
          "output_type": "display_data",
          "data": {
            "text/plain": [
              "{'Number of Records': 15, 'Number of Columns': 8}"
            ]
          },
          "metadata": {}
        }
      ]
    },
    {
      "cell_type": "code",
      "source": [
        "# Get the summary of transformed data\n",
        "# Convert records to DataFrame\n",
        "columns = [\"rank\", \"rank_last_week\", \"weeks_on_list\", \"title\", \"author\", \"publisher\", \"isbn\", \"description\", \"list_category\"]\n",
        "transformed_df = pd.DataFrame(merged_records, columns=columns)\n",
        "transformed_summary = data_summary(transformed_df)\n",
        "display(transformed_summary)"
      ],
      "metadata": {
        "colab": {
          "base_uri": "https://localhost:8080/",
          "height": 34
        },
        "id": "GI0v-FIyO0SO",
        "outputId": "f986632f-cb53-4574-ab37-101c86d10685"
      },
      "execution_count": 107,
      "outputs": [
        {
          "output_type": "display_data",
          "data": {
            "text/plain": [
              "{'Number of Records': 30, 'Number of Columns': 9}"
            ]
          },
          "metadata": {}
        }
      ]
    }
  ]
}